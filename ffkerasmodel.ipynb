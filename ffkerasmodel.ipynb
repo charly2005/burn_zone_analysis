{
  "nbformat": 4,
  "nbformat_minor": 0,
  "metadata": {
    "colab": {
      "provenance": [],
      "mount_file_id": "1ReRuPcgtYqFEAnaccTHii0Zy3CHirQsu",
      "authorship_tag": "ABX9TyOyYgNlXhgHGj0UBeaRxMYC",
      "include_colab_link": true
    },
    "kernelspec": {
      "name": "python3",
      "display_name": "Python 3"
    },
    "language_info": {
      "name": "python"
    }
  },
  "cells": [
    {
      "cell_type": "markdown",
      "metadata": {
        "id": "view-in-github",
        "colab_type": "text"
      },
      "source": [
        "<a href=\"https://colab.research.google.com/github/charly2005/burn_zone_analysis/blob/main/ffkerasmodel.ipynb\" target=\"_parent\"><img src=\"https://colab.research.google.com/assets/colab-badge.svg\" alt=\"Open In Colab\"/></a>"
      ]
    },
    {
      "cell_type": "code",
      "execution_count": 1,
      "metadata": {
        "colab": {
          "base_uri": "https://localhost:8080/"
        },
        "id": "yiZvuF_pFK5B",
        "outputId": "96455f91-aab0-4195-cdbb-b0bfe9c7749b"
      },
      "outputs": [
        {
          "output_type": "stream",
          "name": "stdout",
          "text": [
            "Colab only includes TensorFlow 2.x; %tensorflow_version has no effect.\n",
            "<module 'tensorflow._api.v2.version' from '/usr/local/lib/python3.10/dist-packages/tensorflow/_api/v2/version/__init__.py'>\n",
            "Setup Complete\n"
          ]
        }
      ],
      "source": [
        "!pip install pandas tensorflow matplotlib numpy pyyaml h5py  &> /dev/null\n",
        "\n",
        "import pandas as pd\n",
        "import tensorflow as tf\n",
        "import matplotlib.pyplot as plt\n",
        "import numpy as np\n",
        "%tensorflow_version 2.x\n",
        "print(tf.version)\n",
        "print(\"Setup Complete\")"
      ]
    },
    {
      "cell_type": "code",
      "source": [
        "from google.colab import drive\n",
        "drive.mount('/content/drive')"
      ],
      "metadata": {
        "colab": {
          "base_uri": "https://localhost:8080/"
        },
        "id": "LITXxr3UF1Uk",
        "outputId": "74563fd5-2205-4b06-d61f-11c5859d5c11"
      },
      "execution_count": 7,
      "outputs": [
        {
          "output_type": "stream",
          "name": "stdout",
          "text": [
            "Drive already mounted at /content/drive; to attempt to forcibly remount, call drive.mount(\"/content/drive\", force_remount=True).\n"
          ]
        }
      ]
    },
    {
      "cell_type": "code",
      "source": [
        "ds = pd.read_csv(\"/content/drive/MyDrive/flamefrontds.csv\", header = None)\n",
        "ds.head()"
      ],
      "metadata": {
        "colab": {
          "base_uri": "https://localhost:8080/",
          "height": 235
        },
        "id": "6seTar7_HBZn",
        "outputId": "db89a5d3-d792-4498-baba-44280f26f0ef"
      },
      "execution_count": 8,
      "outputs": [
        {
          "output_type": "execute_result",
          "data": {
            "text/plain": [
              "   0     1     2     3     4     5     6     7     8     9     ...  1272  \\\n",
              "0   609   677   181   175   175   182   182   176   172   169  ...    85   \n",
              "1   612   683   182   183   176   180   179   181   175   167  ...    84   \n",
              "2   611   681   177   176   177   172   178   185   185   173  ...    86   \n",
              "3   591   649   181   179   180   175   168   179   176   178  ...    89   \n",
              "4   683   633   191   178   181   168   174   195   184   180  ...    92   \n",
              "\n",
              "   1273  1274  1275  1276  1277  1278  1279  1280  1281  \n",
              "0    79    73    82    88    83    91    93    87    86  \n",
              "1    77    77    84    79    87    89    83    92   100  \n",
              "2    86    80    78    76    76    83    91    96    93  \n",
              "3    75    90    96    91    81    89    85    81    78  \n",
              "4    89    81    81    78    82    78    89    88    94  \n",
              "\n",
              "[5 rows x 1282 columns]"
            ],
            "text/html": [
              "\n",
              "  <div id=\"df-2c3bfcc8-2518-4d8f-894c-42b57228f9f8\" class=\"colab-df-container\">\n",
              "    <div>\n",
              "<style scoped>\n",
              "    .dataframe tbody tr th:only-of-type {\n",
              "        vertical-align: middle;\n",
              "    }\n",
              "\n",
              "    .dataframe tbody tr th {\n",
              "        vertical-align: top;\n",
              "    }\n",
              "\n",
              "    .dataframe thead th {\n",
              "        text-align: right;\n",
              "    }\n",
              "</style>\n",
              "<table border=\"1\" class=\"dataframe\">\n",
              "  <thead>\n",
              "    <tr style=\"text-align: right;\">\n",
              "      <th></th>\n",
              "      <th>0</th>\n",
              "      <th>1</th>\n",
              "      <th>2</th>\n",
              "      <th>3</th>\n",
              "      <th>4</th>\n",
              "      <th>5</th>\n",
              "      <th>6</th>\n",
              "      <th>7</th>\n",
              "      <th>8</th>\n",
              "      <th>9</th>\n",
              "      <th>...</th>\n",
              "      <th>1272</th>\n",
              "      <th>1273</th>\n",
              "      <th>1274</th>\n",
              "      <th>1275</th>\n",
              "      <th>1276</th>\n",
              "      <th>1277</th>\n",
              "      <th>1278</th>\n",
              "      <th>1279</th>\n",
              "      <th>1280</th>\n",
              "      <th>1281</th>\n",
              "    </tr>\n",
              "  </thead>\n",
              "  <tbody>\n",
              "    <tr>\n",
              "      <th>0</th>\n",
              "      <td>609</td>\n",
              "      <td>677</td>\n",
              "      <td>181</td>\n",
              "      <td>175</td>\n",
              "      <td>175</td>\n",
              "      <td>182</td>\n",
              "      <td>182</td>\n",
              "      <td>176</td>\n",
              "      <td>172</td>\n",
              "      <td>169</td>\n",
              "      <td>...</td>\n",
              "      <td>85</td>\n",
              "      <td>79</td>\n",
              "      <td>73</td>\n",
              "      <td>82</td>\n",
              "      <td>88</td>\n",
              "      <td>83</td>\n",
              "      <td>91</td>\n",
              "      <td>93</td>\n",
              "      <td>87</td>\n",
              "      <td>86</td>\n",
              "    </tr>\n",
              "    <tr>\n",
              "      <th>1</th>\n",
              "      <td>612</td>\n",
              "      <td>683</td>\n",
              "      <td>182</td>\n",
              "      <td>183</td>\n",
              "      <td>176</td>\n",
              "      <td>180</td>\n",
              "      <td>179</td>\n",
              "      <td>181</td>\n",
              "      <td>175</td>\n",
              "      <td>167</td>\n",
              "      <td>...</td>\n",
              "      <td>84</td>\n",
              "      <td>77</td>\n",
              "      <td>77</td>\n",
              "      <td>84</td>\n",
              "      <td>79</td>\n",
              "      <td>87</td>\n",
              "      <td>89</td>\n",
              "      <td>83</td>\n",
              "      <td>92</td>\n",
              "      <td>100</td>\n",
              "    </tr>\n",
              "    <tr>\n",
              "      <th>2</th>\n",
              "      <td>611</td>\n",
              "      <td>681</td>\n",
              "      <td>177</td>\n",
              "      <td>176</td>\n",
              "      <td>177</td>\n",
              "      <td>172</td>\n",
              "      <td>178</td>\n",
              "      <td>185</td>\n",
              "      <td>185</td>\n",
              "      <td>173</td>\n",
              "      <td>...</td>\n",
              "      <td>86</td>\n",
              "      <td>86</td>\n",
              "      <td>80</td>\n",
              "      <td>78</td>\n",
              "      <td>76</td>\n",
              "      <td>76</td>\n",
              "      <td>83</td>\n",
              "      <td>91</td>\n",
              "      <td>96</td>\n",
              "      <td>93</td>\n",
              "    </tr>\n",
              "    <tr>\n",
              "      <th>3</th>\n",
              "      <td>591</td>\n",
              "      <td>649</td>\n",
              "      <td>181</td>\n",
              "      <td>179</td>\n",
              "      <td>180</td>\n",
              "      <td>175</td>\n",
              "      <td>168</td>\n",
              "      <td>179</td>\n",
              "      <td>176</td>\n",
              "      <td>178</td>\n",
              "      <td>...</td>\n",
              "      <td>89</td>\n",
              "      <td>75</td>\n",
              "      <td>90</td>\n",
              "      <td>96</td>\n",
              "      <td>91</td>\n",
              "      <td>81</td>\n",
              "      <td>89</td>\n",
              "      <td>85</td>\n",
              "      <td>81</td>\n",
              "      <td>78</td>\n",
              "    </tr>\n",
              "    <tr>\n",
              "      <th>4</th>\n",
              "      <td>683</td>\n",
              "      <td>633</td>\n",
              "      <td>191</td>\n",
              "      <td>178</td>\n",
              "      <td>181</td>\n",
              "      <td>168</td>\n",
              "      <td>174</td>\n",
              "      <td>195</td>\n",
              "      <td>184</td>\n",
              "      <td>180</td>\n",
              "      <td>...</td>\n",
              "      <td>92</td>\n",
              "      <td>89</td>\n",
              "      <td>81</td>\n",
              "      <td>81</td>\n",
              "      <td>78</td>\n",
              "      <td>82</td>\n",
              "      <td>78</td>\n",
              "      <td>89</td>\n",
              "      <td>88</td>\n",
              "      <td>94</td>\n",
              "    </tr>\n",
              "  </tbody>\n",
              "</table>\n",
              "<p>5 rows × 1282 columns</p>\n",
              "</div>\n",
              "    <div class=\"colab-df-buttons\">\n",
              "\n",
              "  <div class=\"colab-df-container\">\n",
              "    <button class=\"colab-df-convert\" onclick=\"convertToInteractive('df-2c3bfcc8-2518-4d8f-894c-42b57228f9f8')\"\n",
              "            title=\"Convert this dataframe to an interactive table.\"\n",
              "            style=\"display:none;\">\n",
              "\n",
              "  <svg xmlns=\"http://www.w3.org/2000/svg\" height=\"24px\" viewBox=\"0 -960 960 960\">\n",
              "    <path d=\"M120-120v-720h720v720H120Zm60-500h600v-160H180v160Zm220 220h160v-160H400v160Zm0 220h160v-160H400v160ZM180-400h160v-160H180v160Zm440 0h160v-160H620v160ZM180-180h160v-160H180v160Zm440 0h160v-160H620v160Z\"/>\n",
              "  </svg>\n",
              "    </button>\n",
              "\n",
              "  <style>\n",
              "    .colab-df-container {\n",
              "      display:flex;\n",
              "      gap: 12px;\n",
              "    }\n",
              "\n",
              "    .colab-df-convert {\n",
              "      background-color: #E8F0FE;\n",
              "      border: none;\n",
              "      border-radius: 50%;\n",
              "      cursor: pointer;\n",
              "      display: none;\n",
              "      fill: #1967D2;\n",
              "      height: 32px;\n",
              "      padding: 0 0 0 0;\n",
              "      width: 32px;\n",
              "    }\n",
              "\n",
              "    .colab-df-convert:hover {\n",
              "      background-color: #E2EBFA;\n",
              "      box-shadow: 0px 1px 2px rgba(60, 64, 67, 0.3), 0px 1px 3px 1px rgba(60, 64, 67, 0.15);\n",
              "      fill: #174EA6;\n",
              "    }\n",
              "\n",
              "    .colab-df-buttons div {\n",
              "      margin-bottom: 4px;\n",
              "    }\n",
              "\n",
              "    [theme=dark] .colab-df-convert {\n",
              "      background-color: #3B4455;\n",
              "      fill: #D2E3FC;\n",
              "    }\n",
              "\n",
              "    [theme=dark] .colab-df-convert:hover {\n",
              "      background-color: #434B5C;\n",
              "      box-shadow: 0px 1px 3px 1px rgba(0, 0, 0, 0.15);\n",
              "      filter: drop-shadow(0px 1px 2px rgba(0, 0, 0, 0.3));\n",
              "      fill: #FFFFFF;\n",
              "    }\n",
              "  </style>\n",
              "\n",
              "    <script>\n",
              "      const buttonEl =\n",
              "        document.querySelector('#df-2c3bfcc8-2518-4d8f-894c-42b57228f9f8 button.colab-df-convert');\n",
              "      buttonEl.style.display =\n",
              "        google.colab.kernel.accessAllowed ? 'block' : 'none';\n",
              "\n",
              "      async function convertToInteractive(key) {\n",
              "        const element = document.querySelector('#df-2c3bfcc8-2518-4d8f-894c-42b57228f9f8');\n",
              "        const dataTable =\n",
              "          await google.colab.kernel.invokeFunction('convertToInteractive',\n",
              "                                                    [key], {});\n",
              "        if (!dataTable) return;\n",
              "\n",
              "        const docLinkHtml = 'Like what you see? Visit the ' +\n",
              "          '<a target=\"_blank\" href=https://colab.research.google.com/notebooks/data_table.ipynb>data table notebook</a>'\n",
              "          + ' to learn more about interactive tables.';\n",
              "        element.innerHTML = '';\n",
              "        dataTable['output_type'] = 'display_data';\n",
              "        await google.colab.output.renderOutput(dataTable, element);\n",
              "        const docLink = document.createElement('div');\n",
              "        docLink.innerHTML = docLinkHtml;\n",
              "        element.appendChild(docLink);\n",
              "      }\n",
              "    </script>\n",
              "  </div>\n",
              "\n",
              "\n",
              "<div id=\"df-a60429f0-99ba-4658-b15c-2a06f3216dbf\">\n",
              "  <button class=\"colab-df-quickchart\" onclick=\"quickchart('df-a60429f0-99ba-4658-b15c-2a06f3216dbf')\"\n",
              "            title=\"Suggest charts\"\n",
              "            style=\"display:none;\">\n",
              "\n",
              "<svg xmlns=\"http://www.w3.org/2000/svg\" height=\"24px\"viewBox=\"0 0 24 24\"\n",
              "     width=\"24px\">\n",
              "    <g>\n",
              "        <path d=\"M19 3H5c-1.1 0-2 .9-2 2v14c0 1.1.9 2 2 2h14c1.1 0 2-.9 2-2V5c0-1.1-.9-2-2-2zM9 17H7v-7h2v7zm4 0h-2V7h2v10zm4 0h-2v-4h2v4z\"/>\n",
              "    </g>\n",
              "</svg>\n",
              "  </button>\n",
              "\n",
              "<style>\n",
              "  .colab-df-quickchart {\n",
              "      --bg-color: #E8F0FE;\n",
              "      --fill-color: #1967D2;\n",
              "      --hover-bg-color: #E2EBFA;\n",
              "      --hover-fill-color: #174EA6;\n",
              "      --disabled-fill-color: #AAA;\n",
              "      --disabled-bg-color: #DDD;\n",
              "  }\n",
              "\n",
              "  [theme=dark] .colab-df-quickchart {\n",
              "      --bg-color: #3B4455;\n",
              "      --fill-color: #D2E3FC;\n",
              "      --hover-bg-color: #434B5C;\n",
              "      --hover-fill-color: #FFFFFF;\n",
              "      --disabled-bg-color: #3B4455;\n",
              "      --disabled-fill-color: #666;\n",
              "  }\n",
              "\n",
              "  .colab-df-quickchart {\n",
              "    background-color: var(--bg-color);\n",
              "    border: none;\n",
              "    border-radius: 50%;\n",
              "    cursor: pointer;\n",
              "    display: none;\n",
              "    fill: var(--fill-color);\n",
              "    height: 32px;\n",
              "    padding: 0;\n",
              "    width: 32px;\n",
              "  }\n",
              "\n",
              "  .colab-df-quickchart:hover {\n",
              "    background-color: var(--hover-bg-color);\n",
              "    box-shadow: 0 1px 2px rgba(60, 64, 67, 0.3), 0 1px 3px 1px rgba(60, 64, 67, 0.15);\n",
              "    fill: var(--button-hover-fill-color);\n",
              "  }\n",
              "\n",
              "  .colab-df-quickchart-complete:disabled,\n",
              "  .colab-df-quickchart-complete:disabled:hover {\n",
              "    background-color: var(--disabled-bg-color);\n",
              "    fill: var(--disabled-fill-color);\n",
              "    box-shadow: none;\n",
              "  }\n",
              "\n",
              "  .colab-df-spinner {\n",
              "    border: 2px solid var(--fill-color);\n",
              "    border-color: transparent;\n",
              "    border-bottom-color: var(--fill-color);\n",
              "    animation:\n",
              "      spin 1s steps(1) infinite;\n",
              "  }\n",
              "\n",
              "  @keyframes spin {\n",
              "    0% {\n",
              "      border-color: transparent;\n",
              "      border-bottom-color: var(--fill-color);\n",
              "      border-left-color: var(--fill-color);\n",
              "    }\n",
              "    20% {\n",
              "      border-color: transparent;\n",
              "      border-left-color: var(--fill-color);\n",
              "      border-top-color: var(--fill-color);\n",
              "    }\n",
              "    30% {\n",
              "      border-color: transparent;\n",
              "      border-left-color: var(--fill-color);\n",
              "      border-top-color: var(--fill-color);\n",
              "      border-right-color: var(--fill-color);\n",
              "    }\n",
              "    40% {\n",
              "      border-color: transparent;\n",
              "      border-right-color: var(--fill-color);\n",
              "      border-top-color: var(--fill-color);\n",
              "    }\n",
              "    60% {\n",
              "      border-color: transparent;\n",
              "      border-right-color: var(--fill-color);\n",
              "    }\n",
              "    80% {\n",
              "      border-color: transparent;\n",
              "      border-right-color: var(--fill-color);\n",
              "      border-bottom-color: var(--fill-color);\n",
              "    }\n",
              "    90% {\n",
              "      border-color: transparent;\n",
              "      border-bottom-color: var(--fill-color);\n",
              "    }\n",
              "  }\n",
              "</style>\n",
              "\n",
              "  <script>\n",
              "    async function quickchart(key) {\n",
              "      const quickchartButtonEl =\n",
              "        document.querySelector('#' + key + ' button');\n",
              "      quickchartButtonEl.disabled = true;  // To prevent multiple clicks.\n",
              "      quickchartButtonEl.classList.add('colab-df-spinner');\n",
              "      try {\n",
              "        const charts = await google.colab.kernel.invokeFunction(\n",
              "            'suggestCharts', [key], {});\n",
              "      } catch (error) {\n",
              "        console.error('Error during call to suggestCharts:', error);\n",
              "      }\n",
              "      quickchartButtonEl.classList.remove('colab-df-spinner');\n",
              "      quickchartButtonEl.classList.add('colab-df-quickchart-complete');\n",
              "    }\n",
              "    (() => {\n",
              "      let quickchartButtonEl =\n",
              "        document.querySelector('#df-a60429f0-99ba-4658-b15c-2a06f3216dbf button');\n",
              "      quickchartButtonEl.style.display =\n",
              "        google.colab.kernel.accessAllowed ? 'block' : 'none';\n",
              "    })();\n",
              "  </script>\n",
              "</div>\n",
              "\n",
              "    </div>\n",
              "  </div>\n"
            ],
            "application/vnd.google.colaboratory.intrinsic+json": {
              "type": "dataframe",
              "variable_name": "ds"
            }
          },
          "metadata": {},
          "execution_count": 8
        }
      ]
    },
    {
      "cell_type": "code",
      "source": [
        "front = ds.iloc[:, [0]]\n",
        "back = ds.iloc[:, [1]]\n",
        "img = ds.iloc[:, 2:]\n",
        "print(front.head())\n",
        "print(back.head())\n",
        "print(img.head())\n",
        "print(img.shape)"
      ],
      "metadata": {
        "colab": {
          "base_uri": "https://localhost:8080/"
        },
        "id": "ZMWggDIsIs8R",
        "outputId": "f3138278-6b4b-4d80-e369-bc8ee37c4d2c"
      },
      "execution_count": 113,
      "outputs": [
        {
          "output_type": "stream",
          "name": "stdout",
          "text": [
            "     0\n",
            "0  609\n",
            "1  612\n",
            "2  611\n",
            "3  591\n",
            "4  683\n",
            "     1\n",
            "0  677\n",
            "1  683\n",
            "2  681\n",
            "3  649\n",
            "4  633\n",
            "   2     3     4     5     6     7     8     9     10    11    ...  1272  \\\n",
            "0   181   175   175   182   182   176   172   169   165   161  ...    85   \n",
            "1   182   183   176   180   179   181   175   167   169   174  ...    84   \n",
            "2   177   176   177   172   178   185   185   173   170   177  ...    86   \n",
            "3   181   179   180   175   168   179   176   178   176   184  ...    89   \n",
            "4   191   178   181   168   174   195   184   180   183   181  ...    92   \n",
            "\n",
            "   1273  1274  1275  1276  1277  1278  1279  1280  1281  \n",
            "0    79    73    82    88    83    91    93    87    86  \n",
            "1    77    77    84    79    87    89    83    92   100  \n",
            "2    86    80    78    76    76    83    91    96    93  \n",
            "3    75    90    96    91    81    89    85    81    78  \n",
            "4    89    81    81    78    82    78    89    88    94  \n",
            "\n",
            "[5 rows x 1280 columns]\n",
            "(333, 1280)\n"
          ]
        }
      ]
    },
    {
      "cell_type": "code",
      "source": [
        "img_single_column = img.apply(lambda row: ' '.join(row.astype(str)), axis = 1)\n",
        "# front_single_column = front.apply(lambda row: ' '.join(row.astype(str)), axis = 1)\n",
        "# back_single_column = back.apply(lambda row: ' '.join(row.astype(str)), axis = 1)\n",
        "\n",
        "img_data = img_single_column.values\n",
        "print(img_data[0])\n",
        "\n",
        "front_data = front.values\n",
        "back_data = back.values\n",
        "print(front_data[0])\n",
        "print(back_data[0])"
      ],
      "metadata": {
        "colab": {
          "base_uri": "https://localhost:8080/"
        },
        "id": "GAiEAY1uK-cO",
        "outputId": "26331df4-a31c-48a4-f35b-7f6d17222298"
      },
      "execution_count": 118,
      "outputs": [
        {
          "output_type": "stream",
          "name": "stdout",
          "text": [
            "181 175 175 182 182 176 172 169 165 161 174 165 170 170 167 176 182 178 177 179 188 177 180 186 182 182 184 184 182 183 186 187 176 178 183 181 181 182 173 174 174 176 193 187 173 172 184 185 189 200 192 181 186 200 198 191 189 189 188 182 193 207 213 201 199 204 204 191 193 201 210 207 197 203 205 204 201 208 218 208 206 197 196 212 201 204 226 218 206 194 193 206 218 208 205 211 220 222 224 230 222 220 226 223 219 229 236 230 221 219 218 235 250 240 234 227 226 238 252 245 224 217 231 240 236 247 251 245 241 240 243 243 248 244 249 237 252 253 253 256 244 246 255 252 261 264 267 258 241 251 257 257 258 263 259 253 259 263 273 273 254 266 275 275 277 273 275 270 267 263 271 272 267 277 277 276 290 293 288 281 279 286 289 293 294 295 292 285 283 293 306 299 293 284 288 295 296 294 296 290 303 300 306 304 306 308 303 310 307 309 314 304 317 314 314 313 296 302 309 298 317 324 325 325 332 328 324 324 330 329 322 323 338 336 334 324 316 333 347 328 329 327 343 350 334 324 334 351 354 345 345 339 344 350 356 354 338 341 359 355 357 361 359 363 376 368 358 362 384 362 368 369 373 380 390 376 384 368 374 394 389 385 383 377 394 382 375 381 395 385 394 389 394 391 396 391 385 379 391 388 387 408 415 401 393 396 410 414 421 421 414 412 412 417 418 411 411 411 430 435 440 444 451 429 415 424 437 438 437 458 461 455 451 438 436 443 453 443 451 463 462 451 450 458 465 447 438 446 455 454 469 470 461 455 464 468 468 463 459 462 463 449 450 461 469 472 473 464 458 450 470 481 490 472 476 472 465 480 506 499 492 485 499 492 485 483 499 498 496 496 497 488 488 485 501 508 489 485 491 486 500 499 520 518 529 522 517 512 530 532 521 513 511 507 509 511 500 499 518 529 535 510 500 518 532 518 513 527 525 514 538 542 536 527 534 548 548 544 556 555 554 550 557 561 554 560 567 563 562 560 591 589 581 593 598 581 581 590 611 606 594 602 613 608 601 613 633 641 636 648 645 645 647 646 650 661 665 657 665 672 677 674 669 680 686 685 683 703 698 699 713 707 714 714 716 695 711 727 735 734 746 758 766 734 723 732 756 771 770 771 773 775 789 789 777 778 786 785 807 816 813 801 797 808 817 832 829 826 830 841 858 854 847 870 877 876 882 886 880 884 894 909 911 920 918 941 958 942 958 952 952 947 971 1007 1009 1011 1031 1037 1054 1044 1039 1043 1081 1081 1086 1110 1114 1121 1118 1124 1117 1117 1139 1126 1139 1143 1138 1134 1154 1155 1135 1131 1133 1125 1138 1154 1136 1132 1130 1132 1139 1157 1169 1184 1182 1200 1220 1213 1201 1205 1232 1213 1225 1215 1253 1275 1279 1279 1262 1286 1300 1274 1254 1264 1264 1249 1240 1236 1229 1163 1118 1102 1086 1048 1014 984 952 931 922 895 893 884 881 848 829 802 758 738 726 681 656 609 594 572 546 537 520 490 477 443 430 400 366 333 321 282 241 219 212 202 197 199 196 177 166 169 170 167 160 167 172 170 149 148 159 154 145 145 147 151 150 140 137 136 128 137 142 143 147 146 149 145 143 134 133 133 134 131 134 124 132 141 136 139 139 138 132 132 125 133 135 129 133 132 125 122 123 117 122 132 131 119 116 122 121 116 128 129 132 125 118 125 119 112 115 128 134 122 127 129 122 119 119 112 119 115 111 112 115 122 122 109 107 114 116 109 107 113 117 112 109 113 123 117 119 122 115 108 106 107 108 111 107 99 96 101 99 104 103 97 95 101 105 104 113 110 109 111 108 100 95 105 109 101 96 99 105 106 103 104 106 115 119 106 99 99 99 96 100 105 95 102 100 90 93 95 106 113 111 113 111 108 108 108 108 98 97 95 106 104 100 98 106 107 97 97 96 90 103 100 92 98 102 95 97 96 98 93 99 97 103 97 91 96 99 105 101 92 95 89 94 101 106 104 103 98 98 94 99 98 93 91 99 103 94 86 92 91 104 96 89 91 95 100 105 96 98 98 99 101 97 92 104 91 88 95 98 89 92 97 96 87 87 88 92 93 96 99 99 93 90 99 107 100 94 100 94 87 92 103 109 99 94 99 94 98 97 90 89 87 93 93 98 80 82 81 93 101 93 93 93 88 88 93 92 99 102 94 88 90 90 92 99 93 73 85 94 87 88 83 83 90 93 91 89 86 83 80 98 99 100 94 87 86 90 98 96 90 92 106 99 100 105 102 98 89 86 86 92 93 92 85 86 93 90 86 89 81 86 78 90 96 93 88 92 93 88 83 93 98 88 83 86 86 94 95 94 92 97 94 90 85 88 90 86 84 87 89 93 91 87 82 84 92 93 85 86 91 84 86 94 97 100 101 90 86 87 98 89 80 87 89 87 96 90 84 89 92 94 93 92 80 81 84 92 98 95 90 87 82 89 87 90 85 84 90 88 83 87 86 94 94 98 93 88 85 87 94 95 96 94 88 76 73 88 80 73 78 86 90 87 86 100 98 85 78 82 82 87 87 84 85 86 84 83 80 83 81 78 79 90 82 83 82 88 88 91 83 83 81 88 88 90 89 89 95 87 90 101 81 84 78 82 90 86 85 82 83 87 83 84 84 90 89 88 95 90 86 85 86 86 78 73 75 86 92 90 81 88 86 79 80 87 91 95 93 84 88 91 88 89 87 82 85 85 96 85 81 83 88 91 89 76 75 80 91 97 88 83 82 84 81 85 88 80 83 94 90 86 85 99 99 98 93 85 84 85 92 91 80 80 86 84 89 92 86 92 92 91 90 83 86 90 97 95 91 86 88 80 81 86 79 78 84 89 82 77 82 94 93 86 82 79 81 86 91 95 85 85 90 86 87 89 84 84 87 89 94 89 90 85 79 73 82 88 83 91 93 87 86\n",
            "[609]\n",
            "[677]\n"
          ]
        }
      ]
    },
    {
      "cell_type": "code",
      "source": [
        "img_tensors = tf.convert_to_tensor(img_data)\n",
        "front_tensors = tf.convert_to_tensor(front_data)\n",
        "back_tensors = tf.convert_to_tensor(back_data)\n",
        "\n",
        "def convert_to_int(tensor):\n",
        "  split_tensor = tf.strings.split(tensor, ' ')\n",
        "\n",
        "  integer_tensor = tf.strings.to_number(split_tensor, tf.int32)\n",
        "  return integer_tensor\n",
        "\n",
        "img_tensors = convert_to_int(img_tensors)\n",
        "# front_tensors = convert_to_int(front_tensors)\n",
        "# bacK_tensors = convert_to_int(back_tensors)\n",
        "\n",
        "\n",
        "\n",
        "print(\"Flame front front: \", front_tensors[0], front_tensors.shape)\n",
        "print(\"Flame front back: \", back_tensors[0], back_tensors.shape)\n",
        "print(\"Image row: \", img_tensors[0], img_tensors.shape)"
      ],
      "metadata": {
        "colab": {
          "base_uri": "https://localhost:8080/"
        },
        "id": "4BduS0vwLNj-",
        "outputId": "d2315354-a57f-4d01-f25c-e933d361a9f7"
      },
      "execution_count": 119,
      "outputs": [
        {
          "output_type": "stream",
          "name": "stdout",
          "text": [
            "Flame front front:  tf.Tensor([609], shape=(1,), dtype=int64) (333, 1)\n",
            "Flame front back:  tf.Tensor([677], shape=(1,), dtype=int64) (333, 1)\n",
            "Image row:  tf.Tensor([181 175 175 ...  93  87  86], shape=(1280,), dtype=int32) (333, None)\n"
          ]
        }
      ]
    },
    {
      "cell_type": "code",
      "source": [
        "from random import random\n",
        "# for front\n",
        "\n",
        "train_len = int(333 * 0.8)\n",
        "val_len = int(333 * 0.1)\n",
        "test_len = val_len\n",
        "\n",
        "x_train = [None] * train_len\n",
        "y_train = [None] * train_len\n",
        "\n",
        "x_val = [None] * val_len\n",
        "y_val = [None] * val_len\n",
        "\n",
        "x_test = [None] * test_len\n",
        "y_test = [None] * test_len\n",
        "\n",
        "\n",
        "for i in range(train_len):\n",
        "  x_train[i] = img_tensors[i]\n",
        "  y_train[i] = front_tensors[i]\n",
        "\n",
        "for i in range(val_len):\n",
        "  x_val[i] = img_tensors[i + train_len]\n",
        "  y_val[i] = front_tensors[i + train_len]\n",
        "\n",
        "for i in range(test_len):\n",
        "  x_test[i] = img_tensors[i+ train_len + val_len]\n",
        "  y_test[i] = front_tensors[i+ train_len + val_len]\n",
        "\n",
        "print(x_train[0], x_val[0], x_test[0])\n",
        "print(y_train[0], y_val[0], y_test[0])\n",
        "\n"
      ],
      "metadata": {
        "colab": {
          "base_uri": "https://localhost:8080/"
        },
        "id": "KbryDPuWQg_6",
        "outputId": "08a8081a-4d44-4f3b-c38f-9ff4790e0d49"
      },
      "execution_count": 120,
      "outputs": [
        {
          "output_type": "stream",
          "name": "stdout",
          "text": [
            "tf.Tensor([181 175 175 ...  93  87  86], shape=(1280,), dtype=int32) tf.Tensor([240 242 244 ...  99  86  88], shape=(1280,), dtype=int32) tf.Tensor([226 236 239 ...  90  91  94], shape=(1280,), dtype=int32)\n",
            "tf.Tensor([609], shape=(1,), dtype=int64) tf.Tensor([556], shape=(1,), dtype=int64) tf.Tensor([489], shape=(1,), dtype=int64)\n"
          ]
        }
      ]
    },
    {
      "cell_type": "code",
      "source": [
        "from tensorflow import keras\n",
        "from keras import layers\n",
        "from keras import Sequential\n",
        "from keras import callbacks\n",
        "\n",
        "# total # of units btwn input and output\n",
        "model = keras.Sequential([\n",
        "    layers.Dense(units = 512, activation = 'relu', input_shape = [1280]),\n",
        "    layers.Dense(units = 256, activation = 'relu'),\n",
        "    layers.Dense(units = 1)\n",
        "])\n",
        "\n",
        "model.compile(\n",
        "    optimizer = \"adam\",\n",
        "    loss = \"mean_absolute_percentage_error\",\n",
        ")\n",
        "\n",
        "model.summary()"
      ],
      "metadata": {
        "id": "cKH06T8TROy_",
        "colab": {
          "base_uri": "https://localhost:8080/"
        },
        "outputId": "51dceba0-ec7e-40b7-bd1f-43bd319e35fe"
      },
      "execution_count": 252,
      "outputs": [
        {
          "output_type": "stream",
          "name": "stdout",
          "text": [
            "Model: \"sequential_57\"\n",
            "_________________________________________________________________\n",
            " Layer (type)                Output Shape              Param #   \n",
            "=================================================================\n",
            " dense_171 (Dense)           (None, 512)               655872    \n",
            "                                                                 \n",
            " dense_172 (Dense)           (None, 256)               131328    \n",
            "                                                                 \n",
            " dense_173 (Dense)           (None, 1)                 257       \n",
            "                                                                 \n",
            "=================================================================\n",
            "Total params: 787457 (3.00 MB)\n",
            "Trainable params: 787457 (3.00 MB)\n",
            "Non-trainable params: 0 (0.00 Byte)\n",
            "_________________________________________________________________\n"
          ]
        }
      ]
    },
    {
      "cell_type": "code",
      "source": [
        "history = model.fit(\n",
        "    np.array(x_train), np.array(y_train),\n",
        "    validation_data = [np.array(x_val), np.array(y_val)],\n",
        "    epochs= 18,\n",
        "    batch_size= 16,\n",
        ")\n"
      ],
      "metadata": {
        "colab": {
          "base_uri": "https://localhost:8080/"
        },
        "id": "xXCqyCVcUv7V",
        "outputId": "5ec5bff8-9cff-4807-db22-49d171f98557"
      },
      "execution_count": 253,
      "outputs": [
        {
          "output_type": "stream",
          "name": "stdout",
          "text": [
            "Epoch 1/18\n",
            "17/17 [==============================] - 2s 59ms/step - loss: 132.8146 - val_loss: 24.9035\n",
            "Epoch 2/18\n",
            "17/17 [==============================] - 0s 21ms/step - loss: 23.0092 - val_loss: 43.4031\n",
            "Epoch 3/18\n",
            "17/17 [==============================] - 0s 16ms/step - loss: 16.6872 - val_loss: 36.8849\n",
            "Epoch 4/18\n",
            "17/17 [==============================] - 0s 13ms/step - loss: 13.9962 - val_loss: 29.0827\n",
            "Epoch 5/18\n",
            "17/17 [==============================] - 0s 11ms/step - loss: 11.8991 - val_loss: 13.3757\n",
            "Epoch 6/18\n",
            "17/17 [==============================] - 0s 12ms/step - loss: 10.1277 - val_loss: 13.4431\n",
            "Epoch 7/18\n",
            "17/17 [==============================] - 0s 11ms/step - loss: 14.8399 - val_loss: 12.1323\n",
            "Epoch 8/18\n",
            "17/17 [==============================] - 0s 10ms/step - loss: 9.1644 - val_loss: 15.0992\n",
            "Epoch 9/18\n",
            "17/17 [==============================] - 0s 11ms/step - loss: 5.8963 - val_loss: 14.6510\n",
            "Epoch 10/18\n",
            "17/17 [==============================] - 0s 11ms/step - loss: 7.8311 - val_loss: 10.2858\n",
            "Epoch 11/18\n",
            "17/17 [==============================] - 0s 12ms/step - loss: 6.4083 - val_loss: 8.9618\n",
            "Epoch 12/18\n",
            "17/17 [==============================] - 0s 11ms/step - loss: 6.8457 - val_loss: 10.2859\n",
            "Epoch 13/18\n",
            "17/17 [==============================] - 0s 11ms/step - loss: 6.1155 - val_loss: 4.7944\n",
            "Epoch 14/18\n",
            "17/17 [==============================] - 0s 12ms/step - loss: 7.3390 - val_loss: 7.7259\n",
            "Epoch 15/18\n",
            "17/17 [==============================] - 0s 12ms/step - loss: 7.4440 - val_loss: 9.5973\n",
            "Epoch 16/18\n",
            "17/17 [==============================] - 0s 11ms/step - loss: 7.0052 - val_loss: 7.9184\n",
            "Epoch 17/18\n",
            "17/17 [==============================] - 0s 12ms/step - loss: 5.8188 - val_loss: 7.5272\n",
            "Epoch 18/18\n",
            "17/17 [==============================] - 0s 11ms/step - loss: 6.8174 - val_loss: 7.5121\n"
          ]
        }
      ]
    },
    {
      "cell_type": "code",
      "source": [
        "plt.plot(history.history['loss'], color = 'teal', label = 'loss')\n",
        "plt.plot(history.history['val_loss'], color = 'orange', label = 'val_loss')\n",
        "plt.show()"
      ],
      "metadata": {
        "id": "eVx95Nz23s8i",
        "colab": {
          "base_uri": "https://localhost:8080/",
          "height": 430
        },
        "outputId": "d0a5eb38-3dd5-4a8f-db15-807b460168d9"
      },
      "execution_count": 254,
      "outputs": [
        {
          "output_type": "display_data",
          "data": {
            "text/plain": [
              "<Figure size 640x480 with 1 Axes>"
            ],
            "image/png": "[encoded data removed]"
          },
          "metadata": {}
        }
      ]
    },
    {
      "cell_type": "code",
      "source": [
        "loss = model.evaluate(np.array(x_test), np.array(y_test), verbose=2)\n",
        "\n",
        "print(\"Trained model, loss: {:5.2f}%\".format(loss))\n",
        "print(\"Trained model, accuracy: {:5.2f}%\".format(100-loss))"
      ],
      "metadata": {
        "colab": {
          "base_uri": "https://localhost:8080/"
        },
        "id": "Cw7xOuQXaPH5",
        "outputId": "940416ad-6b70-4063-a9f6-f8d7e5302fb6"
      },
      "execution_count": 255,
      "outputs": [
        {
          "output_type": "stream",
          "name": "stdout",
          "text": [
            "2/2 - 0s - loss: 7.1642 - 25ms/epoch - 12ms/step\n",
            "Trained model, loss:  7.16%\n",
            "Trained model, accuracy: 92.84%\n"
          ]
        }
      ]
    },
    {
      "cell_type": "code",
      "source": [
        "x = [None] * 333\n",
        "y = [None] * 333\n",
        "for i in range(333):\n",
        "  x[i] = img_tensors[i]\n",
        "  y[i] = front_tensors[i]\n",
        "\n",
        "idk = model.evaluate(np.array(x), np.array(y), verbose=2)\n",
        "\n",
        "print(\"Trained model, loss: {:5.2f}%\".format(idk))\n",
        "print(\"Trained model, accuracy: {:5.2f}%\".format(100-loss))"
      ],
      "metadata": {
        "colab": {
          "base_uri": "https://localhost:8080/"
        },
        "id": "HDlF9lvqhbFq",
        "outputId": "e6853aa0-4a02-4f28-c2c6-a09e5d069084"
      },
      "execution_count": 210,
      "outputs": [
        {
          "output_type": "stream",
          "name": "stdout",
          "text": [
            "11/11 - 0s - loss: 5.9017 - 45ms/epoch - 4ms/step\n",
            "Trained model, loss:  5.90%\n",
            "Trained model, accuracy: 93.72%\n"
          ]
        }
      ]
    },
    {
      "cell_type": "code",
      "source": [
        "example = model.predict(np.array(x_test))\n",
        "n = 12\n",
        "print(example[n])\n",
        "print(y_test[n])\n",
        "print(abs(example[n]-y_test[n]))"
      ],
      "metadata": {
        "colab": {
          "base_uri": "https://localhost:8080/"
        },
        "id": "LnfdsFYrafF8",
        "outputId": "c2b36d3c-e6a9-4b73-d829-633e202b760b"
      },
      "execution_count": 225,
      "outputs": [
        {
          "output_type": "stream",
          "name": "stdout",
          "text": [
            "2/2 [==============================] - 0s 11ms/step\n",
            "[482.83276]\n",
            "tf.Tensor([485], shape=(1,), dtype=int64)\n",
            "tf.Tensor([3], shape=(1,), dtype=int64)\n"
          ]
        }
      ]
    },
    {
      "cell_type": "code",
      "source": [
        "model.save_weights('ffkerasback.h5')"
      ],
      "metadata": {
        "id": "DkmI23JoesE0"
      },
      "execution_count": 149,
      "outputs": []
    },
    {
      "cell_type": "code",
      "source": [
        "z_train = [None] * train_len\n",
        "\n",
        "z_val = [None] * val_len\n",
        "\n",
        "z_test = [None] * test_len\n",
        "\n",
        "\n",
        "for i in range(train_len):\n",
        "  z_train[i] = front_tensors[i]\n",
        "\n",
        "for i in range(val_len):\n",
        "  z_val[i] = front_tensors[i + train_len]\n",
        "\n",
        "for i in range(test_len):\n",
        "  z_test[i] = front_tensors[i+ train_len + val_len]\n",
        "\n",
        "model_2 = keras.Sequential([\n",
        "    layers.Dense(units = 512, activation = 'relu', input_shape = [1280]),\n",
        "    layers.Dense(units = 512, activation = 'relu'),\n",
        "    layers.Dense(units = 1)\n",
        "])\n",
        "\n",
        "model_2.compile(\n",
        "    optimizer = \"adam\",\n",
        "    loss = \"mean_absolute_percentage_error\",\n",
        ")\n",
        "\n",
        "history_2 = model_2.fit(\n",
        "    np.array(x_train), np.array(z_train),\n",
        "    validation_data = [np.array(x_val), np.array(z_val)],\n",
        "    epochs= 32,\n",
        "    batch_size= 16,\n",
        ")\n"
      ],
      "metadata": {
        "colab": {
          "base_uri": "https://localhost:8080/"
        },
        "id": "Gp3OFTb0ilbq",
        "outputId": "3d1a2ec9-bfb8-4fd5-a424-746aaeb4ab5e"
      },
      "execution_count": 236,
      "outputs": [
        {
          "output_type": "stream",
          "name": "stdout",
          "text": [
            "Epoch 1/32\n",
            "17/17 [==============================] - 2s 54ms/step - loss: 139.2620 - val_loss: 8.5836\n",
            "Epoch 2/32\n",
            "17/17 [==============================] - 1s 34ms/step - loss: 20.9758 - val_loss: 24.6224\n",
            "Epoch 3/32\n",
            "17/17 [==============================] - 1s 38ms/step - loss: 22.9113 - val_loss: 18.2290\n",
            "Epoch 4/32\n",
            "17/17 [==============================] - 1s 38ms/step - loss: 13.4998 - val_loss: 19.7976\n",
            "Epoch 5/32\n",
            "17/17 [==============================] - 1s 36ms/step - loss: 8.9270 - val_loss: 24.8179\n",
            "Epoch 6/32\n",
            "17/17 [==============================] - 1s 35ms/step - loss: 13.3963 - val_loss: 13.9705\n",
            "Epoch 7/32\n",
            "17/17 [==============================] - 1s 33ms/step - loss: 10.9449 - val_loss: 7.6237\n",
            "Epoch 8/32\n",
            "17/17 [==============================] - 1s 36ms/step - loss: 10.2203 - val_loss: 8.6917\n",
            "Epoch 9/32\n",
            "17/17 [==============================] - 1s 32ms/step - loss: 7.6342 - val_loss: 9.4986\n",
            "Epoch 10/32\n",
            "17/17 [==============================] - 0s 23ms/step - loss: 6.2147 - val_loss: 10.8184\n",
            "Epoch 11/32\n",
            "17/17 [==============================] - 0s 21ms/step - loss: 7.0362 - val_loss: 8.9842\n",
            "Epoch 12/32\n",
            "17/17 [==============================] - 0s 22ms/step - loss: 5.5773 - val_loss: 15.8648\n",
            "Epoch 13/32\n",
            "17/17 [==============================] - 0s 17ms/step - loss: 6.1575 - val_loss: 12.6730\n",
            "Epoch 14/32\n",
            "17/17 [==============================] - 0s 13ms/step - loss: 12.2071 - val_loss: 18.1854\n",
            "Epoch 15/32\n",
            "17/17 [==============================] - 0s 13ms/step - loss: 13.8954 - val_loss: 15.2923\n",
            "Epoch 16/32\n",
            "17/17 [==============================] - 0s 13ms/step - loss: 7.5320 - val_loss: 12.0279\n",
            "Epoch 17/32\n",
            "17/17 [==============================] - 0s 12ms/step - loss: 6.5294 - val_loss: 8.4426\n",
            "Epoch 18/32\n",
            "17/17 [==============================] - 0s 13ms/step - loss: 5.6284 - val_loss: 19.2547\n",
            "Epoch 19/32\n",
            "17/17 [==============================] - 0s 13ms/step - loss: 6.9855 - val_loss: 5.5661\n",
            "Epoch 20/32\n",
            "17/17 [==============================] - 0s 14ms/step - loss: 6.1727 - val_loss: 7.4203\n",
            "Epoch 21/32\n",
            "17/17 [==============================] - 0s 13ms/step - loss: 6.2113 - val_loss: 8.6414\n",
            "Epoch 22/32\n",
            "17/17 [==============================] - 0s 12ms/step - loss: 5.2231 - val_loss: 6.1271\n",
            "Epoch 23/32\n",
            "17/17 [==============================] - 0s 12ms/step - loss: 4.3838 - val_loss: 3.0620\n",
            "Epoch 24/32\n",
            "17/17 [==============================] - 0s 14ms/step - loss: 5.0243 - val_loss: 5.7818\n",
            "Epoch 25/32\n",
            "17/17 [==============================] - 0s 14ms/step - loss: 5.6105 - val_loss: 5.0847\n",
            "Epoch 26/32\n",
            "17/17 [==============================] - 0s 12ms/step - loss: 4.7572 - val_loss: 8.5320\n",
            "Epoch 27/32\n",
            "17/17 [==============================] - 0s 13ms/step - loss: 5.6904 - val_loss: 10.1666\n",
            "Epoch 28/32\n",
            "17/17 [==============================] - 0s 12ms/step - loss: 4.7038 - val_loss: 7.8822\n",
            "Epoch 29/32\n",
            "17/17 [==============================] - 0s 13ms/step - loss: 4.1341 - val_loss: 5.3513\n",
            "Epoch 30/32\n",
            "17/17 [==============================] - 0s 12ms/step - loss: 3.8838 - val_loss: 3.7118\n",
            "Epoch 31/32\n",
            "17/17 [==============================] - 0s 13ms/step - loss: 4.1182 - val_loss: 6.9158\n",
            "Epoch 32/32\n",
            "17/17 [==============================] - 0s 13ms/step - loss: 3.7866 - val_loss: 5.0736\n"
          ]
        }
      ]
    },
    {
      "cell_type": "code",
      "source": [
        "plt.plot(history_2.history['loss'], color = 'teal', label = 'loss')\n",
        "plt.plot(history_2.history['val_loss'], color = 'orange', label = 'val_loss')\n",
        "plt.show()"
      ],
      "metadata": {
        "colab": {
          "base_uri": "https://localhost:8080/",
          "height": 430
        },
        "id": "7X6bodgxoIia",
        "outputId": "1d2a1b26-aa97-4df3-90bc-cc52c845b963"
      },
      "execution_count": 237,
      "outputs": [
        {
          "output_type": "display_data",
          "data": {
            "text/plain": [
              "<Figure size 640x480 with 1 Axes>"
            ],
            "image/png": "[encoded data removed]"
          },
          "metadata": {}
        }
      ]
    },
    {
      "cell_type": "code",
      "source": [
        "loss_2 = model_2.evaluate(np.array(x_test), np.array(z_test), verbose=2)\n",
        "\n",
        "print(\"Trained model, loss: {:5.2f}%\".format(loss_2))\n",
        "print(\"Trained model, accuracy: {:5.2f}%\".format(100-loss_2))"
      ],
      "metadata": {
        "colab": {
          "base_uri": "https://localhost:8080/"
        },
        "id": "GBwm_mKXq8Wn",
        "outputId": "1c43ce88-2ca4-4093-f71b-eeb1c8e93066"
      },
      "execution_count": 238,
      "outputs": [
        {
          "output_type": "stream",
          "name": "stdout",
          "text": [
            "2/2 - 0s - loss: 7.8856 - 34ms/epoch - 17ms/step\n",
            "Trained model, loss:  7.89%\n",
            "Trained model, accuracy: 92.11%\n"
          ]
        }
      ]
    }
  ]
}